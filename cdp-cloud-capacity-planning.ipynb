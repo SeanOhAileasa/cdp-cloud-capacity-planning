{
 "cells": [
  {
   "cell_type": "markdown",
   "id": "d4ee9e4b",
   "metadata": {},
   "source": [
    "***\n",
    "< [Home](https://github.com/SeanOhAileasa) | [README](https://github.com/SeanOhAileasa/cdp-cloud-capacity-planning/blob/main/README.md) >\n",
    "\n",
    "## CompTIA Cloud+ - Course Material 2022\n",
    "###### Topic: ``Cloud Capacity Planning``\n",
    "***"
   ]
  },
  {
   "cell_type": "markdown",
   "id": "e7228f57",
   "metadata": {},
   "source": [
    "<a id=\"top\"></a>\n",
    "***\n",
    "## Table of Contents\n",
    "***"
   ]
  },
  {
   "cell_type": "markdown",
   "id": "c2bb5e7b",
   "metadata": {},
   "source": [
    "### [Cloud Capacity Planning](#aa) <br/><br/>\n",
    "<hr width=50%;>"
   ]
  },
  {
   "cell_type": "markdown",
   "id": "ebf97a1d",
   "metadata": {},
   "source": [
    "### [Technical Capacity Planning](#A) <br/><br/>\n",
    "<hr width=50%;>"
   ]
  },
  {
   "cell_type": "markdown",
   "id": "6d43c7d0",
   "metadata": {},
   "source": [
    "### [Business Capacity Planning](#B) <br/><br/>\n",
    "<hr width=50%;>"
   ]
  },
  {
   "cell_type": "markdown",
   "id": "385c864f",
   "metadata": {},
   "source": [
    "### [Standard Templates as a Factor in Capacity Planning](#C) <br/><br/>\n",
    "<hr width=50%;>"
   ]
  },
  {
   "cell_type": "markdown",
   "id": "11e92510",
   "metadata": {},
   "source": [
    "### [Licensing as a Factor in Capacity Planning](#D) <br/><br/>\n",
    "<hr width=50%;>"
   ]
  },
  {
   "cell_type": "markdown",
   "id": "213af957",
   "metadata": {},
   "source": [
    "### [User Density as a Factor in Capacity Planning](#E) <br/><br/>\n",
    "<hr width=50%;>"
   ]
  },
  {
   "cell_type": "markdown",
   "id": "f4c99d8c",
   "metadata": {},
   "source": [
    "### [System Load as a Factor in Capacity Planning](#F) <br/><br/>\n",
    "<hr width=50%;>"
   ]
  },
  {
   "cell_type": "markdown",
   "id": "0fe787e7",
   "metadata": {},
   "source": [
    "### [Trend Analysis as a Factor in Capacity Planning](#G) <br/><br/>\n",
    "<hr width=50%;>"
   ]
  },
  {
   "cell_type": "markdown",
   "id": "de0a4cfa",
   "metadata": {},
   "source": [
    "### [Performance Capacity Planning](#H) <br/><br/>\n",
    "<hr width=50%;>"
   ]
  },
  {
   "cell_type": "markdown",
   "id": "d7395d00",
   "metadata": {},
   "source": [
    "### [Creating Databases in the Cloud](#I) <br/><br/>\n",
    "<hr width=50%;>"
   ]
  },
  {
   "cell_type": "markdown",
   "id": "97978877",
   "metadata": {},
   "source": [
    "### [Scaling Resources](#J) <br/><br/>\n",
    "<hr width=50%;>"
   ]
  },
  {
   "cell_type": "markdown",
   "id": "74dc3777",
   "metadata": {},
   "source": [
    "### [Course Summary](#K) <br/><br/>\n",
    "<hr width=50%;>"
   ]
  },
  {
   "cell_type": "markdown",
   "id": "bf2b95e2",
   "metadata": {},
   "source": [
    "***\n",
    "## END"
   ]
  },
  {
   "cell_type": "markdown",
   "id": "34aa6eb5",
   "metadata": {},
   "source": [
    "< [Table of Contents](#top) | [References](#references) >\n",
    "<a id=\"aa\"></a>\n",
    "***\n",
    "### Cloud Capacity Planning\n",
    "***"
   ]
  },
  {
   "cell_type": "markdown",
   "id": "187fb315",
   "metadata": {},
   "source": []
  },
  {
   "cell_type": "markdown",
   "id": "bf0d4586",
   "metadata": {},
   "source": [
    "< [Table of Contents](#top) | [References](#references) >\n",
    "<a id=\"A\"></a>\n",
    "***\n",
    "### Technical Capacity Planning\n",
    "*** "
   ]
  },
  {
   "cell_type": "markdown",
   "id": "4ae2ab49",
   "metadata": {},
   "source": []
  },
  {
   "cell_type": "markdown",
   "id": "73a0d6b0",
   "metadata": {},
   "source": [
    "< [Table of Contents](#top) | [References](#references) >\n",
    "<a id=\"B\"></a>\n",
    "***\n",
    "### Business Capacity Planning\n",
    "*** "
   ]
  },
  {
   "cell_type": "markdown",
   "id": "4308d08a",
   "metadata": {},
   "source": []
  },
  {
   "cell_type": "markdown",
   "id": "363d6d22",
   "metadata": {},
   "source": [
    "< [Table of Contents](#top) | [References](#references) >\n",
    "<a id=\"C\"></a>\n",
    "***\n",
    "### Standard Templates as a Factor in Capacity Planning\n",
    "*** "
   ]
  },
  {
   "cell_type": "markdown",
   "id": "2de21b4b",
   "metadata": {},
   "source": []
  },
  {
   "cell_type": "markdown",
   "id": "2a735cb3",
   "metadata": {},
   "source": [
    "< [Table of Contents](#top) | [References](#references) >\n",
    "<a id=\"D\"></a>\n",
    "***\n",
    "### Licensing as a Factor in Capacity Planning\n",
    "*** "
   ]
  },
  {
   "cell_type": "markdown",
   "id": "f2965cff",
   "metadata": {},
   "source": []
  },
  {
   "cell_type": "markdown",
   "id": "065d30ed",
   "metadata": {},
   "source": [
    "< [Table of Contents](#top) | [References](#references) >\n",
    "<a id=\"E\"></a>\n",
    "***\n",
    "### User Density as a Factor in Capacity Planning\n",
    "*** "
   ]
  },
  {
   "cell_type": "markdown",
   "id": "350632b6",
   "metadata": {},
   "source": []
  },
  {
   "cell_type": "markdown",
   "id": "93a75f7b",
   "metadata": {},
   "source": [
    "< [Table of Contents](#top) | [References](#references) >\n",
    "<a id=\"F\"></a>\n",
    "***\n",
    "### System Load as a Factor in Capacity Planning\n",
    "*** "
   ]
  },
  {
   "cell_type": "markdown",
   "id": "88f22398",
   "metadata": {},
   "source": []
  },
  {
   "cell_type": "markdown",
   "id": "0474329f",
   "metadata": {},
   "source": [
    "< [Table of Contents](#top) | [References](#references) >\n",
    "<a id=\"G\"></a>\n",
    "***\n",
    "### Trend Analysis as a Factor in Capacity Planning\n",
    "*** "
   ]
  },
  {
   "cell_type": "markdown",
   "id": "ee78fcc9",
   "metadata": {},
   "source": []
  },
  {
   "cell_type": "markdown",
   "id": "95db53b3",
   "metadata": {},
   "source": [
    "< [Table of Contents](#top) | [References](#references) >\n",
    "<a id=\"H\"></a>\n",
    "***\n",
    "### Performance Capacity Planning\n",
    "*** "
   ]
  },
  {
   "cell_type": "markdown",
   "id": "a1afccc4",
   "metadata": {},
   "source": []
  },
  {
   "cell_type": "markdown",
   "id": "4d2a9881",
   "metadata": {},
   "source": [
    "< [Table of Contents](#top) | [References](#references) >\n",
    "<a id=\"I\"></a>\n",
    "***\n",
    "### Creating Databases in the Cloud\n",
    "*** "
   ]
  },
  {
   "cell_type": "markdown",
   "id": "80575c07",
   "metadata": {},
   "source": []
  },
  {
   "cell_type": "markdown",
   "id": "4f848414",
   "metadata": {},
   "source": [
    "< [Table of Contents](#top) | [References](#references) >\n",
    "<a id=\"J\"></a>\n",
    "***\n",
    "### Scaling Resources\n",
    "*** "
   ]
  },
  {
   "cell_type": "markdown",
   "id": "540d66e3",
   "metadata": {},
   "source": []
  },
  {
   "cell_type": "markdown",
   "id": "173e78b5",
   "metadata": {},
   "source": [
    "< [Table of Contents](#top) | [References](#references) >\n",
    "<a id=\"K\"></a>\n",
    "***\n",
    "### Course Summary\n",
    "*** "
   ]
  },
  {
   "cell_type": "markdown",
   "id": "997451fe",
   "metadata": {},
   "source": []
  },
  {
   "cell_type": "markdown",
   "id": "2cc20932",
   "metadata": {},
   "source": [
    "***\n",
    "## END"
   ]
  },
  {
   "cell_type": "markdown",
   "id": "e0e42d51",
   "metadata": {},
   "source": [
    "< [Table of Contents](#top) >\n",
    "<a id=\"references\"></a>\n",
    "***\n",
    "## References\n",
    "***"
   ]
  },
  {
   "cell_type": "markdown",
   "id": "757bf6de",
   "metadata": {},
   "source": [
    "&nbsp;&nbsp;&nbsp;&nbsp;&nbsp;&nbsp;&nbsp;&nbsp;&nbsp;skillsoft, \"cdp-cloud-capacity-planning,\" [skillsoft.com](https://web.archive.org/web/20220403100053/https://www.skillsoft.com/), n.d.."
   ]
  },
  {
   "cell_type": "markdown",
   "id": "b33c372a",
   "metadata": {},
   "source": [
    "***\n",
    "## END"
   ]
  },
  {
   "cell_type": "markdown",
   "id": "e5961b4d",
   "metadata": {},
   "source": [
    "< [Table of Contents](#top) | [References](#references) >\n",
    "<a id=\"appendix\"></a>\n",
    "***\n",
    "## Appendix\n",
    "***"
   ]
  },
  {
   "cell_type": "markdown",
   "id": "00d82a82",
   "metadata": {},
   "source": [
    "***\n",
    "## END"
   ]
  },
  {
   "cell_type": "code",
   "execution_count": 1,
   "id": "706756a2",
   "metadata": {},
   "outputs": [
    {
     "name": "stderr",
     "output_type": "stream",
     "text": [
      "C:\\Users\\SeanOhAileasa\\AppData\\Local\\Temp\\ipykernel_14156\\1322614208.py:1: DeprecationWarning: Importing display from IPython.core.display is deprecated since IPython 7.14, please import from IPython display\n",
      "  from IPython.core.display import display,HTML\n"
     ]
    },
    {
     "data": {
      "text/html": [
       "<style>.container { width:100% !important; }</style>"
      ],
      "text/plain": [
       "<IPython.core.display.HTML object>"
      ]
     },
     "metadata": {},
     "output_type": "display_data"
    }
   ],
   "source": [
    "from IPython.core.display import display,HTML\n",
    "display(HTML(\"<style>.container { width:100% !important; }</style>\"))"
   ]
  },
  {
   "cell_type": "markdown",
   "id": "899c1783",
   "metadata": {},
   "source": [
    "# END JUPYTER NOTEBOOK"
   ]
  }
 ],
 "metadata": {
  "kernelspec": {
   "display_name": "Python 3 (ipykernel)",
   "language": "python",
   "name": "python3"
  },
  "language_info": {
   "codemirror_mode": {
    "name": "ipython",
    "version": 3
   },
   "file_extension": ".py",
   "mimetype": "text/x-python",
   "name": "python",
   "nbconvert_exporter": "python",
   "pygments_lexer": "ipython3",
   "version": "3.9.12"
  }
 },
 "nbformat": 4,
 "nbformat_minor": 5
}
